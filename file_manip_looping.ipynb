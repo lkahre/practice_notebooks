{
 "cells": [
  {
   "cell_type": "markdown",
   "metadata": {},
   "source": [
    "# File Manipulation and Basic Operations\n",
    "- Original Notebook by Lauren Kahre [lekahre@gmail.com](lekahre@gmail.com) \n",
    "- Pandas module documentation: https://pandas.pydata.org/pandas-docs/stable/\n",
    "- Numpy module documentation: https://docs.scipy.org/doc/numpy/\n",
    "- Annotated- use ctrl+F to find needed keywords, or just click on a section heading in Contents below.\n",
    "\n",
    "## Contents\n",
    "- [File input](#file_input)\n",
    "    - [Pandas](#pandas_input)\n",
    "    - [Numpy](#numpy_input)\n",
    "    - [Basic Python Lists](#lists_input)\n",
    "- [Looping](#looping)\n",
    "    - [For Loops](#for_loops)\n",
    "    - [While Loops](#while_loops)\n",
    "    - [Loop Control](#loop_control) \n",
    "    \n",
    "- [File output](#file_output)"
   ]
  },
  {
   "cell_type": "markdown",
   "metadata": {},
   "source": [
    "<a id=\"file_input\".</a>\n",
    "### File Input\n",
    "<a id=\"pandas_input\".</a>\n",
    "#### Pandas"
   ]
  },
  {
   "cell_type": "code",
   "execution_count": 33,
   "metadata": {},
   "outputs": [
    {
     "data": {
      "text/html": [
       "<div>\n",
       "<style>\n",
       "    .dataframe thead tr:only-child th {\n",
       "        text-align: right;\n",
       "    }\n",
       "\n",
       "    .dataframe thead th {\n",
       "        text-align: left;\n",
       "    }\n",
       "\n",
       "    .dataframe tbody tr th {\n",
       "        vertical-align: top;\n",
       "    }\n",
       "</style>\n",
       "<table border=\"1\" class=\"dataframe\">\n",
       "  <thead>\n",
       "    <tr style=\"text-align: right;\">\n",
       "      <th></th>\n",
       "      <th>state</th>\n",
       "      <th>prison</th>\n",
       "      <th>parole</th>\n",
       "      <th>felony_probation</th>\n",
       "      <th>jail</th>\n",
       "      <th>post_sentence</th>\n",
       "      <th>total</th>\n",
       "      <th>vap</th>\n",
       "      <th>percentage_disenfranchised</th>\n",
       "    </tr>\n",
       "  </thead>\n",
       "  <tbody>\n",
       "    <tr>\n",
       "      <th>0</th>\n",
       "      <td>Alabama</td>\n",
       "      <td>30585.0</td>\n",
       "      <td>6580.0</td>\n",
       "      <td>15626.0</td>\n",
       "      <td>1578.0</td>\n",
       "      <td>231896.0</td>\n",
       "      <td>286266</td>\n",
       "      <td>3755483</td>\n",
       "      <td>0.0762</td>\n",
       "    </tr>\n",
       "    <tr>\n",
       "      <th>1</th>\n",
       "      <td>Alaska</td>\n",
       "      <td>5497.0</td>\n",
       "      <td>2035.0</td>\n",
       "      <td>6900.0</td>\n",
       "      <td>7.0</td>\n",
       "      <td>NaN</td>\n",
       "      <td>14439</td>\n",
       "      <td>552166</td>\n",
       "      <td>0.0261</td>\n",
       "    </tr>\n",
       "    <tr>\n",
       "      <th>2</th>\n",
       "      <td>Arizona</td>\n",
       "      <td>44509.0</td>\n",
       "      <td>7241.0</td>\n",
       "      <td>51362.0</td>\n",
       "      <td>1341.0</td>\n",
       "      <td>116717.0</td>\n",
       "      <td>221170</td>\n",
       "      <td>5205215</td>\n",
       "      <td>0.0425</td>\n",
       "    </tr>\n",
       "    <tr>\n",
       "      <th>3</th>\n",
       "      <td>Arkansas</td>\n",
       "      <td>19224.0</td>\n",
       "      <td>21811.0</td>\n",
       "      <td>24695.0</td>\n",
       "      <td>975.0</td>\n",
       "      <td>NaN</td>\n",
       "      <td>66705</td>\n",
       "      <td>2272904</td>\n",
       "      <td>0.0293</td>\n",
       "    </tr>\n",
       "    <tr>\n",
       "      <th>4</th>\n",
       "      <td>California</td>\n",
       "      <td>136302.0</td>\n",
       "      <td>86254.0</td>\n",
       "      <td>NaN</td>\n",
       "      <td>NaN</td>\n",
       "      <td>NaN</td>\n",
       "      <td>222557</td>\n",
       "      <td>30023902</td>\n",
       "      <td>0.0074</td>\n",
       "    </tr>\n",
       "  </tbody>\n",
       "</table>\n",
       "</div>"
      ],
      "text/plain": [
       "        state    prison   parole  felony_probation    jail  post_sentence  \\\n",
       "0     Alabama   30585.0   6580.0           15626.0  1578.0       231896.0   \n",
       "1      Alaska    5497.0   2035.0            6900.0     7.0            NaN   \n",
       "2     Arizona   44509.0   7241.0           51362.0  1341.0       116717.0   \n",
       "3    Arkansas   19224.0  21811.0           24695.0   975.0            NaN   \n",
       "4  California  136302.0  86254.0               NaN     NaN            NaN   \n",
       "\n",
       "    total       vap  percentage_disenfranchised  \n",
       "0  286266   3755483                      0.0762  \n",
       "1   14439    552166                      0.0261  \n",
       "2  221170   5205215                      0.0425  \n",
       "3   66705   2272904                      0.0293  \n",
       "4  222557  30023902                      0.0074  "
      ]
     },
     "metadata": {},
     "output_type": "display_data"
    }
   ],
   "source": [
    "#Pandas is easy. It's possible to use other methods, but hard with mixed datatypes.\n",
    "import pandas as pd\n",
    "\n",
    "filename = 'felon_disenfranchisement.csv'\n",
    "data_pandas = pd.read_csv(filename)  #Can specify separators other than commas\n",
    "\n",
    "#Display head to check if file input worked, set max columns so you can see all of it\n",
    "pd.options.display.max_columns = 150    #set to 150 as an example- can be any value\n",
    "display(data_pandas.head())       #can drop '.head()' if want to see all rows"
   ]
  },
  {
   "cell_type": "markdown",
   "metadata": {},
   "source": [
    "<a id=\"numpy_input\".</a>\n",
    "#### Numpy"
   ]
  },
  {
   "cell_type": "code",
   "execution_count": 26,
   "metadata": {},
   "outputs": [
    {
     "data": {
      "text/plain": [
       "array([ (b'Alabama',  30585,  6580, 15626, 1578, 231896, 286266,  3755483,  0.0762),\n",
       "       (b'Alaska',   5497,  2035,  6900,    7,     -1,  14439,   552166,  0.0261),\n",
       "       (b'Arizona',  44509,  7241, 51362, 1341, 116717, 221170,  5205215,  0.0425),\n",
       "       (b'Arkansas',  19224, 21811, 24695,  975,     -1,  66705,  2272904,  0.0293),\n",
       "       (b'California', 136302, 86254,    -1,   -1,     -1, 222557, 30023902,  0.0074)],\n",
       "      dtype=[('state', 'S14'), ('prison', '<i8'), ('parole', '<i8'), ('felony_probation', '<i8'), ('jail', '<i8'), ('post_sentence', '<i8'), ('total', '<i8'), ('vap', '<i8'), ('percentage_disenfranchised', '<f8')])"
      ]
     },
     "metadata": {},
     "output_type": "display_data"
    }
   ],
   "source": [
    "#Using Numpy if for some godforsaken reason you can't use Pandas\n",
    "import numpy as np\n",
    "\n",
    "filename = 'felon_disenfranchisement.csv'\n",
    "data_numpy = np.genfromtxt(filename, delimiter=',', names=True, dtype=None)  \n",
    "    #names=True tells us there's a header\n",
    "    #dtype=None lets you work with mixed datatypes\n",
    "    #Gives you a structured array\n",
    "\n",
    "#Check file input to make sure it worked\n",
    "display(data_numpy[:5])"
   ]
  },
  {
   "cell_type": "markdown",
   "metadata": {},
   "source": [
    "<a id=\"lists_input\".</a>\n",
    "#### Basic Python Lists"
   ]
  },
  {
   "cell_type": "code",
   "execution_count": 46,
   "metadata": {},
   "outputs": [
    {
     "name": "stdout",
     "output_type": "stream",
     "text": [
      "[['state', 'prison', 'parole', 'felony_probation', 'jail', 'post_sentence', 'total', 'vap', 'percentage_disenfranchised'], ['Alabama', '30585', '6580', '15626', '1578', '231896', '286266', '3755483', '0.0762'], ['Alaska', '5497', '2035', '6900', '7', '', '14439', '552166', '0.0261'], ['Arizona', '44509', '7241', '51362', '1341', '116717', '221170', '5205215', '0.0425'], ['Arkansas', '19224', '21811', '24695', '975', '', '66705', '2272904', '0.0293']]\n"
     ]
    }
   ],
   "source": [
    "#Basic Python file I/O if you're getting desperate\n",
    "import csv\n",
    "\n",
    "filename = 'felon_disenfranchisement.csv'\n",
    "f = open(filename)\n",
    "csv_f = csv.reader(f)\n",
    "\n",
    "data_basic = []  #Generate list to dump data into\n",
    "\n",
    "#Check file input to make sure it worked\n",
    "for row in csv_f:\n",
    "    data_basic.append(row)\n",
    "f.close()\n",
    "print(data_basic[:5])"
   ]
  },
  {
   "cell_type": "markdown",
   "metadata": {},
   "source": [
    "<a id=\"looping\".</a>\n",
    "### Looping\n",
    "<a id=\"for_loops\".</a>\n",
    "#### For Loops\n",
    "<br>\n",
    "\n",
    "- Can loop using index numbers or patterns.\n",
    "- Python supports single-line looping- most common use is \"lambda\" functions.\n"
   ]
  },
  {
   "cell_type": "code",
   "execution_count": 30,
   "metadata": {
    "collapsed": true
   },
   "outputs": [],
   "source": [
    "#Pandas:\n",
    "#Using iterrows:\n",
    "for index, row in data_pandas.iterrows():\n",
    "    #do things- gonna tell it to do nothing for now, but print statement in comment\n",
    "    #print (row['state'], row['jail'])\n",
    "    pass\n",
    "\n",
    "#Using itertuples\n",
    "for row in data_pandas.itertuples(index=True, name='Pandas'):\n",
    "    #do things- gonna tell it to do nothing for now, but print statement in comment\n",
    "    #print (getattr(row, 'state'), getattr(row, 'jail'))\n",
    "    pass\n",
    "\n",
    "#Single-line apply changes with lambda function\n",
    "def replace_blanks(x):\n",
    "    import math\n",
    "    if math.isnan(x):\n",
    "        return 0\n",
    "    else:\n",
    "        pass\n",
    "\n",
    "data_pandas['jail'] = data_pandas.apply(lambda row: replace_blanks(row['jail']), axis=1)"
   ]
  },
  {
   "cell_type": "code",
   "execution_count": 78,
   "metadata": {},
   "outputs": [],
   "source": [
    "#Numpy:\n",
    "num_rows = data_numpy.shape[0]\n",
    "for i in range(num_rows):    #Loop through using index numbers and range()\n",
    "    #do things- gonna tell it to do nothing for now, but print statement in comment\n",
    "    #print (data_numpy[i])    #if trying to print specific columns, access via \n",
    "                                #data_numpy['colname'][i]\n",
    "    pass\n",
    "#This is set up for the structured array to access row-by-row. Can iterate through columns\n",
    "#in a basic 2d array via array[colnum, rownum]."
   ]
  },
  {
   "cell_type": "code",
   "execution_count": 77,
   "metadata": {},
   "outputs": [],
   "source": [
    "#Basic lists:\n",
    "for row in data_basic:       #Loop through using pattern loops\n",
    "    #do things- gonna tell it to do nothing for now, but print statement in comment\n",
    "    #print (row)\n",
    "    pass"
   ]
  },
  {
   "cell_type": "markdown",
   "metadata": {},
   "source": [
    "<a id=\"while_loops\".</a>\n",
    "#### While Loops"
   ]
  },
  {
   "cell_type": "code",
   "execution_count": 43,
   "metadata": {},
   "outputs": [],
   "source": [
    "#Should be similar with all data types- careful, it's possible to build an infinite loop.\n",
    "#Slower than for-loops. Use only if you can't reframe it into a for-loop without break \n",
    "#statement shenanigans. The following example is a bad example for syntax reference only- \n",
    "#this iteration should be a for-loop.\n",
    "\n",
    "end = False\n",
    "n = len(data_basic)\n",
    "i = 0\n",
    "\n",
    "while end != True:\n",
    "    #do things- gonna tell it to do nothing for now, but print statement in comment\n",
    "    #print(data_basic[i])\n",
    "    i += 1\n",
    "    if i == n:\n",
    "        end = True\n",
    "    else:\n",
    "        end = False\n"
   ]
  },
  {
   "cell_type": "markdown",
   "metadata": {},
   "source": [
    "<a id=\"loop_control\".</a>\n",
    "#### Loop Control\n",
    "\n",
    "<br>\n",
    "- Break statements terminate loop that contains it. If in nested structure, will only terminiate innermost loop.\n",
    "- Continue statements skip remaining loop commands then proceed to the next iteration.\n",
    "- Pass statements do nothing. Can be used when syntax requires a statement, but program requires no action.\n"
   ]
  },
  {
   "cell_type": "code",
   "execution_count": 73,
   "metadata": {},
   "outputs": [
    {
     "name": "stdout",
     "output_type": "stream",
     "text": [
      "felony_probation\n",
      "15626\n",
      "6900\n",
      "51362\n",
      "24695\n"
     ]
    }
   ],
   "source": [
    "for row in data_basic:\n",
    "    value = row[3]\n",
    "    if len(value) == 0:  #If value does not exist in that column for current row, end loop\n",
    "        break\n",
    "    else:\n",
    "        print(value)\n",
    "        "
   ]
  },
  {
   "cell_type": "code",
   "execution_count": 75,
   "metadata": {},
   "outputs": [
    {
     "name": "stdout",
     "output_type": "stream",
     "text": [
      "felony_probation\n",
      "15626\n",
      "6900\n",
      "51362\n",
      "24695\n",
      "4074\n",
      "86886\n",
      "170194\n",
      "9863\n",
      "12365\n",
      "3426\n",
      "27323\n",
      "37761\n",
      "43215\n",
      "28463\n",
      "38870\n",
      "40867\n",
      "2952\n",
      "8097\n",
      "58123\n",
      "13352\n",
      "26475\n",
      "21464\n",
      "4114\n",
      "52654\n",
      "216033\n",
      "56908\n",
      "25164\n",
      "4109\n",
      "22101\n",
      "3148\n",
      "1116585\n"
     ]
    }
   ],
   "source": [
    "for row in data_basic:\n",
    "    value = row[3]\n",
    "    if len(value) == 0:  #If value does not exist in that column for current row, skip to next iteration\n",
    "        continue\n",
    "    else:\n",
    "        print(value)"
   ]
  },
  {
   "cell_type": "code",
   "execution_count": 76,
   "metadata": {},
   "outputs": [
    {
     "name": "stdout",
     "output_type": "stream",
     "text": [
      "Number of rows: 52\n",
      "Full rows: 32\n"
     ]
    }
   ],
   "source": [
    "totrows = 0\n",
    "fullrows = 0\n",
    "\n",
    "for row in data_basic:\n",
    "    value = row[3]\n",
    "    if len(value) == 0:  #If value does not exist in that column for current row, do nothing.\n",
    "        pass\n",
    "    else:\n",
    "        fullrows += 1\n",
    "    totrows += 1\n",
    "print(\"Number of rows:\", str(totrows))\n",
    "print(\"Full rows:\", str(fullrows))"
   ]
  },
  {
   "cell_type": "markdown",
   "metadata": {},
   "source": [
    "<a id=\"file_output\".</a>\n",
    "### File Output"
   ]
  },
  {
   "cell_type": "code",
   "execution_count": 53,
   "metadata": {},
   "outputs": [],
   "source": [
    "#First, with pandas:\n",
    "data_pandas.to_csv('resave_felon_disenfranchisement_pandas.csv')\n",
    "\n",
    "#Now numpy:\n",
    "#np.tofile('resave_felon_disenfranchisement_numpy.csv', data_numpy, sep=',')\n",
    "data_numpy.tofile('resave_felon_disenfranchisement.csv', sep=',')\n",
    "\n",
    "#Now basic list:\n",
    "with open('resave_felon_disenfranchisement_basic.csv', 'w+') as myfile:\n",
    "    wr = csv.writer(myfile, delimiter=',')\n",
    "    wr.writerows(data_basic)"
   ]
  },
  {
   "cell_type": "code",
   "execution_count": null,
   "metadata": {
    "collapsed": true
   },
   "outputs": [],
   "source": []
  }
 ],
 "metadata": {
  "kernelspec": {
   "display_name": "Python 3",
   "language": "python",
   "name": "python3"
  },
  "language_info": {
   "codemirror_mode": {
    "name": "ipython",
    "version": 3
   },
   "file_extension": ".py",
   "mimetype": "text/x-python",
   "name": "python",
   "nbconvert_exporter": "python",
   "pygments_lexer": "ipython3",
   "version": "3.6.2"
  }
 },
 "nbformat": 4,
 "nbformat_minor": 2
}
